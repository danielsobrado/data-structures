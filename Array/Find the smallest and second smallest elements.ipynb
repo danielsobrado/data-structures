{
 "cells": [
  {
   "cell_type": "markdown",
   "metadata": {},
   "source": [
    "##### Find the smallest and second smallest elements in an array"
   ]
  },
  {
   "cell_type": "markdown",
   "metadata": {},
   "source": [
    "We'll start by defining an array, Python is dynamically typed language, there is no way to say that this variable should never refer to anything other than a list or a set.\n",
    "For this problem we want to use a list structure."
   ]
  },
  {
   "cell_type": "code",
   "execution_count": 46,
   "metadata": {
    "collapsed": true
   },
   "outputs": [],
   "source": [
    "import sys\n",
    "import numpy as np"
   ]
  },
  {
   "cell_type": "code",
   "execution_count": 79,
   "metadata": {},
   "outputs": [
    {
     "name": "stdout",
     "output_type": "stream",
     "text": [
      "Type: <class 'set'>\n"
     ]
    },
    {
     "data": {
      "text/plain": [
       "{1, 2, 10, 12, 13, 34}"
      ]
     },
     "execution_count": 79,
     "metadata": {},
     "output_type": "execute_result"
    }
   ],
   "source": [
    "# Here we are difining a Set that is an ordered structure and contains no duplicates\n",
    "arr1 = {12, 2, 13, 1, 10, 34, 1}\n",
    "print(\"Type: \" + str(type(arr1)))\n",
    "arr1"
   ]
  },
  {
   "cell_type": "code",
   "execution_count": 80,
   "metadata": {},
   "outputs": [
    {
     "name": "stdout",
     "output_type": "stream",
     "text": [
      "Type: <class 'list'>\n"
     ]
    },
    {
     "data": {
      "text/plain": [
       "[12, 2, 13, 1, 10, 34, 1]"
      ]
     },
     "execution_count": 80,
     "metadata": {},
     "output_type": "execute_result"
    }
   ],
   "source": [
    "# Here we are difining a List that is an unordered structure and might contain  duplicates\n",
    "arr2 = [12, 2, 13, 1, 10, 34, 1]\n",
    "print(\"Type: \" + str(type(arr2)))\n",
    "arr2"
   ]
  },
  {
   "cell_type": "code",
   "execution_count": 81,
   "metadata": {},
   "outputs": [
    {
     "name": "stdout",
     "output_type": "stream",
     "text": [
      " Pre Step  >> min1: 9223372036854775807 -  min2: 9223372036854775807\n",
      " Post Step >> min1: 12 -  min2: 9223372036854775807\n",
      " Pre Step  >> min1: 12 -  min2: 9223372036854775807\n",
      " Post Step >> min1: 2 -  min2: 12\n",
      " Pre Step  >> min1: 2 -  min2: 12\n",
      " Post Step >> min1: 2 -  min2: 12\n",
      " Pre Step  >> min1: 2 -  min2: 12\n",
      " Post Step >> min1: 1 -  min2: 2\n",
      " Pre Step  >> min1: 1 -  min2: 2\n",
      " Post Step >> min1: 1 -  min2: 2\n",
      " Pre Step  >> min1: 1 -  min2: 2\n",
      " Post Step >> min1: 1 -  min2: 2\n",
      " Pre Step  >> min1: 1 -  min2: 2\n",
      " Post Step >> min1: 1 -  min2: 2\n",
      "------------------------------------------------\n",
      "Final min1: 1 min2: 2\n"
     ]
    }
   ],
   "source": [
    "# We have 7steps in this solution, one per array item, this means that our complexity is O(n)\n",
    "min1 = sys.maxsize\n",
    "min2 = sys.maxsize\n",
    "for num in arr2:\n",
    "    print(\" Pre Step  >> min1: \"+ str(min1) + \" - \"+\" min2: \"+str(min2))\n",
    "    if num<min1:\n",
    "        min2 = min1\n",
    "        min1 = num\n",
    "    if num>min1 and num<min2:\n",
    "        min2 = num\n",
    "    print(\" Post Step >> min1: \"+ str(min1) + \" - \"+\" min2: \"+str(min2))\n",
    "print(\"------------------------------------------------\")\n",
    "print(\"Final min1: \" + str(min1) + \" min2: \" + str(min2))\n",
    "        "
   ]
  }
 ],
 "metadata": {
  "kernelspec": {
   "display_name": "Python 3",
   "language": "python",
   "name": "python3"
  },
  "language_info": {
   "codemirror_mode": {
    "name": "ipython",
    "version": 3
   },
   "file_extension": ".py",
   "mimetype": "text/x-python",
   "name": "python",
   "nbconvert_exporter": "python",
   "pygments_lexer": "ipython3",
   "version": "3.6.3"
  }
 },
 "nbformat": 4,
 "nbformat_minor": 2
}
